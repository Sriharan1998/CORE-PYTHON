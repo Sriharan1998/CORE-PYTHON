{
  "nbformat": 4,
  "nbformat_minor": 0,
  "metadata": {
    "colab": {
      "provenance": []
    },
    "kernelspec": {
      "name": "python3",
      "display_name": "Python 3"
    },
    "language_info": {
      "name": "python"
    }
  },
  "cells": [
    {
      "cell_type": "code",
      "execution_count": null,
      "metadata": {
        "colab": {
          "base_uri": "https://localhost:8080/"
        },
        "id": "f41sOhGx3963",
        "outputId": "fd6d1d53-071f-4e8c-80b6-8a3f4f57ecbe"
      },
      "outputs": [
        {
          "output_type": "stream",
          "name": "stdout",
          "text": [
            "0\n"
          ]
        }
      ],
      "source": [
        " i = 0\n",
        " while(i==0):\n",
        "  print(i)\n",
        "  i+=1"
      ]
    },
    {
      "cell_type": "code",
      "source": [
        "i = 1\n",
        "while (i<=5):\n",
        "  print(i)\n",
        "  i+=1\n"
      ],
      "metadata": {
        "id": "HC4jYwLE7R6X",
        "colab": {
          "base_uri": "https://localhost:8080/"
        },
        "outputId": "f5a04bf0-d74a-45cc-982d-4b36bdc2b98a"
      },
      "execution_count": null,
      "outputs": [
        {
          "output_type": "stream",
          "name": "stdout",
          "text": [
            "1\n",
            "2\n",
            "3\n",
            "4\n",
            "5\n"
          ]
        }
      ]
    },
    {
      "cell_type": "code",
      "source": [
        "sum=0\n",
        "\n",
        "i=10\n",
        "while i>0:\n",
        "  print(\"Enter number\")\n",
        "  num = int(input())\n",
        "  sum = sum + num\n",
        "  i = i-1\n",
        "print('Average is',sum/10)"
      ],
      "metadata": {
        "id": "nd7fiFnceRoz",
        "colab": {
          "base_uri": "https://localhost:8080/"
        },
        "outputId": "9a56bd7f-ba4c-4756-a23b-f41435ed9009"
      },
      "execution_count": null,
      "outputs": [
        {
          "output_type": "stream",
          "name": "stdout",
          "text": [
            "Enter number\n",
            "1\n",
            "Enter number\n",
            "2\n",
            "Enter number\n",
            "3\n",
            "Enter number\n",
            "4\n",
            "Enter number\n",
            "5\n",
            "Enter number\n",
            "6\n",
            "Enter number\n",
            "7\n",
            "Enter number\n",
            "8\n",
            "Enter number\n",
            "9\n",
            "Enter number\n",
            "10\n",
            "Average is 5.5\n"
          ]
        }
      ]
    },
    {
      "cell_type": "code",
      "source": [
        "sum = 0\n",
        "\n",
        "i=5\n",
        "while i>0 :\n",
        "  print('Enter number')\n",
        "  num = int(input())\n",
        "  sum = sum + num\n",
        "  i=i-1\n",
        "print('Name: M.SRIHARAN')\n",
        "print('ROLL NUM: 2235870')\n",
        "print('TOTAL:',sum)\n",
        "print('Average is',sum/5,'.')"
      ],
      "metadata": {
        "colab": {
          "base_uri": "https://localhost:8080/"
        },
        "id": "CTONWGqk2h-v",
        "outputId": "80a13aec-388b-4d96-cebf-237495cf97da"
      },
      "execution_count": null,
      "outputs": [
        {
          "output_type": "stream",
          "name": "stdout",
          "text": [
            "Enter number\n",
            "92\n",
            "Enter number\n",
            "99\n",
            "Enter number\n",
            "98\n",
            "Enter number\n",
            "100\n",
            "Enter number\n",
            "100\n",
            "Name: M.SRIHARAN\n",
            "ROLL NUM: 2235870\n",
            "TOTAL: 489\n",
            "Average is 97.8 .\n"
          ]
        }
      ]
    },
    {
      "cell_type": "code",
      "source": [
        "sum = 0\n",
        "\n",
        "i=5\n",
        "while i>0 :\n",
        "  print('Enter Subject:')\n",
        "  subject = str(input())\n",
        "  print('Enter number')\n",
        "  num = int(input())\n",
        "  sum = sum + num\n",
        "  i=i-1\n",
        "print(subject,':',num)\n",
        "print('Name: M.SRIHARAN')\n",
        "print('ROLL NUM: 2235870')\n",
        "print('TOTAL:',sum)\n",
        "print('Average is',sum/5,'.')"
      ],
      "metadata": {
        "colab": {
          "base_uri": "https://localhost:8080/"
        },
        "id": "em7JTN3x5bfb",
        "outputId": "ac1da06f-4047-4b24-842c-b931b0aedb91"
      },
      "execution_count": null,
      "outputs": [
        {
          "output_type": "stream",
          "name": "stdout",
          "text": [
            "Enter Subject:\n",
            "TAMIL\n",
            "Enter number\n",
            "92\n",
            "Enter Subject:\n",
            "ENGLISH\n",
            "Enter number\n",
            "99\n",
            "Enter Subject:\n",
            "MATHS\n",
            "Enter number\n",
            "98\n",
            "Enter Subject:\n",
            "SCIENCE\n",
            "Enter number\n",
            "100\n",
            "Enter Subject:\n",
            "SOCIAL\n",
            "Enter number\n",
            "100\n",
            "SOCIAL : 100\n",
            "SOCIAL : 100\n",
            "SOCIAL : 100\n",
            "SOCIAL : 100\n",
            "Name: M.SRIHARAN\n",
            "ROLL NUM: 2235870\n",
            "TOTAL: 489\n",
            "Average is 97.8 .\n"
          ]
        }
      ]
    },
    {
      "cell_type": "code",
      "source": [
        "i = 2\n",
        "while (i<=20):\n",
        "  print(i)\n",
        "  i=i+2"
      ],
      "metadata": {
        "colab": {
          "base_uri": "https://localhost:8080/"
        },
        "id": "P-N6gLuc6a5P",
        "outputId": "46390039-4926-4634-bbf2-256b8a9409e9"
      },
      "execution_count": null,
      "outputs": [
        {
          "output_type": "stream",
          "name": "stdout",
          "text": [
            "2\n",
            "4\n",
            "6\n",
            "8\n",
            "10\n",
            "12\n",
            "14\n",
            "16\n",
            "18\n",
            "20\n"
          ]
        }
      ]
    },
    {
      "cell_type": "code",
      "source": [
        "i = 1\n",
        "while (i<=20):\n",
        "  print(i)\n",
        "  i=i+2"
      ],
      "metadata": {
        "colab": {
          "base_uri": "https://localhost:8080/"
        },
        "id": "d-fB_wxE7yl0",
        "outputId": "d05fac09-0ae5-4e30-d4aa-45a9307e82d9"
      },
      "execution_count": null,
      "outputs": [
        {
          "output_type": "stream",
          "name": "stdout",
          "text": [
            "1\n",
            "3\n",
            "5\n",
            "7\n",
            "9\n",
            "11\n",
            "13\n",
            "15\n",
            "17\n",
            "19\n"
          ]
        }
      ]
    },
    {
      "cell_type": "code",
      "source": [
        "i=1\n",
        "while (i<=10):\n",
        "  print(i,i*i)\n",
        "  i=i+1"
      ],
      "metadata": {
        "colab": {
          "base_uri": "https://localhost:8080/"
        },
        "id": "ip_s2xYy7_ej",
        "outputId": "555dc4b0-4373-43a7-d76a-c2985228c6a9"
      },
      "execution_count": null,
      "outputs": [
        {
          "output_type": "stream",
          "name": "stdout",
          "text": [
            "1 1\n",
            "2 4\n",
            "3 9\n",
            "4 16\n",
            "5 25\n",
            "6 36\n",
            "7 49\n",
            "8 64\n",
            "9 81\n",
            "10 100\n"
          ]
        }
      ]
    }
  ]
}