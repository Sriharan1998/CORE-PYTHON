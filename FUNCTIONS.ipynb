{
  "nbformat": 4,
  "nbformat_minor": 0,
  "metadata": {
    "colab": {
      "provenance": []
    },
    "kernelspec": {
      "name": "python3",
      "display_name": "Python 3"
    },
    "language_info": {
      "name": "python"
    }
  },
  "cells": [
    {
      "cell_type": "code",
      "source": [
        "#function reaction # function with no parameter or argument\n",
        "def sriharan():\n",
        "  print(\"Hi this is my first main memory coding.\")"
      ],
      "metadata": {
        "id": "1H3FG0cR-gv9"
      },
      "execution_count": null,
      "outputs": []
    },
    {
      "cell_type": "code",
      "source": [
        "#reference a function/call a function\n",
        "sriharan()"
      ],
      "metadata": {
        "colab": {
          "base_uri": "https://localhost:8080/"
        },
        "id": "EC_aBLVyExPq",
        "outputId": "0b8d32f6-9bbc-4ca9-abeb-d0bce1223f47"
      },
      "execution_count": null,
      "outputs": [
        {
          "output_type": "stream",
          "name": "stdout",
          "text": [
            "Hi this is my first main memory coding.\n"
          ]
        }
      ]
    },
    {
      "cell_type": "code",
      "source": [
        "#function with argument\n",
        "def even_odd(num):\n",
        "  if num%2 == 0:\n",
        "    print('even number')\n",
        "  else:\n",
        "    print('odd number')"
      ],
      "metadata": {
        "id": "m4M9z5NkGBy-"
      },
      "execution_count": null,
      "outputs": []
    },
    {
      "cell_type": "code",
      "source": [
        "even_odd(10)"
      ],
      "metadata": {
        "colab": {
          "base_uri": "https://localhost:8080/"
        },
        "id": "dlHJTfBxGgHr",
        "outputId": "7ddc021c-2da9-49c1-94c1-5477284b02fd"
      },
      "execution_count": null,
      "outputs": [
        {
          "output_type": "stream",
          "name": "stdout",
          "text": [
            "even number\n"
          ]
        }
      ]
    },
    {
      "cell_type": "code",
      "source": [
        "def pos_neg(num):\n",
        "  if num > 0:\n",
        "    print('positive number')\n",
        "  elif num == 0:\n",
        "    print('neutral number')\n",
        "  else:\n",
        "    print ('negative number')"
      ],
      "metadata": {
        "id": "8vRap5o5GjFv"
      },
      "execution_count": null,
      "outputs": []
    },
    {
      "cell_type": "code",
      "source": [
        "pos_neg(11)"
      ],
      "metadata": {
        "colab": {
          "base_uri": "https://localhost:8080/"
        },
        "id": "MnYHvlkMHIUl",
        "outputId": "8ee7a358-136b-4628-8ebf-80706cebd79c"
      },
      "execution_count": null,
      "outputs": [
        {
          "output_type": "stream",
          "name": "stdout",
          "text": [
            "positive number\n"
          ]
        }
      ]
    },
    {
      "cell_type": "code",
      "source": [
        "def addition(a,b=6,c):\n",
        "  d = a+b+c\n",
        "  print(d)"
      ],
      "metadata": {
        "colab": {
          "base_uri": "https://localhost:8080/",
          "height": 140
        },
        "id": "yeztKpCHHOhI",
        "outputId": "e1295ae7-bf5d-4f9b-e1e9-3e1a71db7ca0"
      },
      "execution_count": null,
      "outputs": [
        {
          "output_type": "error",
          "ename": "SyntaxError",
          "evalue": "ignored",
          "traceback": [
            "\u001b[0;36m  File \u001b[0;32m\"<ipython-input-41-d0d7718bdcc1>\"\u001b[0;36m, line \u001b[0;32m1\u001b[0m\n\u001b[0;31m    def addition(a,b=6,c):\u001b[0m\n\u001b[0m                       ^\u001b[0m\n\u001b[0;31mSyntaxError\u001b[0m\u001b[0;31m:\u001b[0m non-default argument follows default argument\n"
          ]
        }
      ]
    },
    {
      "cell_type": "code",
      "source": [
        "addition(4,6,7)"
      ],
      "metadata": {
        "colab": {
          "base_uri": "https://localhost:8080/"
        },
        "id": "bp1NBskdHvcS",
        "outputId": "553685ab-a318-4c2f-d62f-d0ed9fd32211"
      },
      "execution_count": null,
      "outputs": [
        {
          "output_type": "stream",
          "name": "stdout",
          "text": [
            "17\n"
          ]
        }
      ]
    },
    {
      "cell_type": "code",
      "source": [
        "print(dir())"
      ],
      "metadata": {
        "colab": {
          "base_uri": "https://localhost:8080/"
        },
        "id": "Uyb2kY1-IhpU",
        "outputId": "272f117f-91c3-4f53-f05c-0fd1e3aa3206"
      },
      "execution_count": null,
      "outputs": [
        {
          "output_type": "stream",
          "name": "stdout",
          "text": [
            "['In', 'Out', '_', '__', '___', '__builtin__', '__builtins__', '__doc__', '__loader__', '__name__', '__package__', '__spec__', '_dh', '_i', '_i1', '_i10', '_i11', '_i12', '_i13', '_i14', '_i15', '_i16', '_i17', '_i2', '_i3', '_i4', '_i5', '_i6', '_i7', '_i8', '_i9', '_ih', '_ii', '_iii', '_oh', 'addition', 'even_odd', 'exit', 'get_ipython', 'pos_neg', 'quit', 'sriharan']\n"
          ]
        }
      ]
    },
    {
      "cell_type": "code",
      "source": [
        "def large_num(a,b,c):\n",
        "  print(max(a,b,c))"
      ],
      "metadata": {
        "id": "a13xh7LiIxZb"
      },
      "execution_count": null,
      "outputs": []
    },
    {
      "cell_type": "code",
      "source": [
        "large_num(4,5,6)"
      ],
      "metadata": {
        "colab": {
          "base_uri": "https://localhost:8080/"
        },
        "id": "nG-HzehgJ0ZZ",
        "outputId": "d98d671a-dae1-47d2-f779-8a2dd3335414"
      },
      "execution_count": null,
      "outputs": [
        {
          "output_type": "stream",
          "name": "stdout",
          "text": [
            "6\n"
          ]
        }
      ]
    },
    {
      "cell_type": "code",
      "source": [
        "x = large_num"
      ],
      "metadata": {
        "id": "LaD-AbR0c1Ml"
      },
      "execution_count": null,
      "outputs": []
    },
    {
      "cell_type": "code",
      "source": [
        "x(7,8,9)"
      ],
      "metadata": {
        "colab": {
          "base_uri": "https://localhost:8080/"
        },
        "id": "l5mJOUKjc-BS",
        "outputId": "46f5b042-247b-43e4-d2c2-0fadb3da0caa"
      },
      "execution_count": null,
      "outputs": [
        {
          "output_type": "stream",
          "name": "stdout",
          "text": [
            "9\n"
          ]
        }
      ]
    },
    {
      "cell_type": "code",
      "source": [
        "def largest_of_3_num(a,b,c):\n",
        "  if (a>b) and (a>c):\n",
        "    print(a)\n",
        "  elif (b>a) and (b>c):\n",
        "    print(b)\n",
        "  else:\n",
        "    print(c)"
      ],
      "metadata": {
        "id": "2QQwy8mYKgUe"
      },
      "execution_count": null,
      "outputs": []
    },
    {
      "cell_type": "code",
      "source": [
        "largest_of_3_num(4,5,6)"
      ],
      "metadata": {
        "colab": {
          "base_uri": "https://localhost:8080/"
        },
        "id": "aTqhfDS8MOnv",
        "outputId": "1ea25bf2-83a0-4858-cdbb-acc357288f73"
      },
      "execution_count": null,
      "outputs": [
        {
          "output_type": "stream",
          "name": "stdout",
          "text": [
            "6\n"
          ]
        }
      ]
    },
    {
      "cell_type": "code",
      "source": [
        "#python functions using default arguments\n",
        "def aoc(r,pi=3.14):\n",
        "  d = (pi*r**2)\n",
        "  print(d)"
      ],
      "metadata": {
        "id": "OxsDgZOMMYS2"
      },
      "execution_count": null,
      "outputs": []
    },
    {
      "cell_type": "code",
      "source": [
        "aoc(7)"
      ],
      "metadata": {
        "colab": {
          "base_uri": "https://localhost:8080/"
        },
        "id": "PBPRPvLeNGUk",
        "outputId": "8b30d094-658f-4af6-aedf-6cb5b77e16cc"
      },
      "execution_count": null,
      "outputs": [
        {
          "output_type": "stream",
          "name": "stdout",
          "text": [
            "153.86\n"
          ]
        }
      ]
    },
    {
      "cell_type": "code",
      "source": [
        "def marksheet(p=100):\n",
        "  m1 = int(input())\n",
        "  m2 = int(input())\n",
        "  m3 = int(input())\n",
        "  total = m1+m2+m3+p\n",
        "  avg = (m1+m2+m3+p)/4\n",
        "  print('TOTAL:',total)\n",
        "  print('AVERAGE:',avg)"
      ],
      "metadata": {
        "id": "CV8TgNP_N-34"
      },
      "execution_count": null,
      "outputs": []
    },
    {
      "cell_type": "code",
      "source": [
        "#python default arguments are changeable\n",
        "marksheet(p=80)"
      ],
      "metadata": {
        "colab": {
          "base_uri": "https://localhost:8080/"
        },
        "id": "NfA9DDFNPJRO",
        "outputId": "d31b27bf-cab5-4712-eb48-f3f4a2066553"
      },
      "execution_count": null,
      "outputs": [
        {
          "output_type": "stream",
          "name": "stdout",
          "text": [
            "70\n",
            "80\n",
            "90\n",
            "TOTAL: 320\n",
            "AVERAGE: 80.0\n"
          ]
        }
      ]
    },
    {
      "cell_type": "code",
      "source": [
        "#variable length argument\n",
        "def friends(*a):\n",
        "  print(a)"
      ],
      "metadata": {
        "id": "HkdGyy9gQ09_"
      },
      "execution_count": null,
      "outputs": []
    },
    {
      "cell_type": "code",
      "source": [
        "friends('Sri','Afi','Dhar')"
      ],
      "metadata": {
        "colab": {
          "base_uri": "https://localhost:8080/"
        },
        "id": "g_Qwipd2RVIo",
        "outputId": "2003f9e7-fae2-483a-f24b-30428c68c0a1"
      },
      "execution_count": null,
      "outputs": [
        {
          "output_type": "stream",
          "name": "stdout",
          "text": [
            "('Sri', 'Afi', 'Dhar')\n"
          ]
        }
      ]
    },
    {
      "cell_type": "code",
      "source": [
        "def natural(*i):\n",
        "  sum = 0\n",
        "  for j in i:\n",
        "    sum=j+sum\n",
        "  print(sum)"
      ],
      "metadata": {
        "id": "W7--3FNTUewO"
      },
      "execution_count": null,
      "outputs": []
    },
    {
      "cell_type": "code",
      "source": [
        "natural(0,1,2,3,4,5,6,7,8,9)"
      ],
      "metadata": {
        "colab": {
          "base_uri": "https://localhost:8080/"
        },
        "id": "F0EoT1NsVMRz",
        "outputId": "fe5f808f-7406-4637-bc0e-c2a0f738e33e"
      },
      "execution_count": null,
      "outputs": [
        {
          "output_type": "stream",
          "name": "stdout",
          "text": [
            "45\n"
          ]
        }
      ]
    },
    {
      "cell_type": "code",
      "source": [
        "def sqrt(n):\n",
        "  res = n**2\n",
        "  print(res)"
      ],
      "metadata": {
        "id": "7VnUpYQXZfY9"
      },
      "execution_count": null,
      "outputs": []
    },
    {
      "cell_type": "code",
      "source": [
        "sqrt(4)"
      ],
      "metadata": {
        "colab": {
          "base_uri": "https://localhost:8080/"
        },
        "id": "z4CNPhyfdMLz",
        "outputId": "6fe9639d-5057-440d-c80f-8ec96dbe25d1"
      },
      "execution_count": null,
      "outputs": [
        {
          "output_type": "stream",
          "name": "stdout",
          "text": [
            "16\n"
          ]
        }
      ]
    },
    {
      "cell_type": "code",
      "source": [
        "#**\n",
        "def percentage(**kwargs):\n",
        "  sum = 0\n",
        "  for sub in kwargs:\n",
        "    sub_name = sub\n",
        "    sub_marks = kwargs[sub]\n"
      ],
      "metadata": {
        "id": "Dva_pYbmdbrI"
      },
      "execution_count": null,
      "outputs": []
    },
    {
      "cell_type": "code",
      "source": [
        "def marks(**m):\n",
        "  for i,j in m.items():\n",
        "    print(i,j)"
      ],
      "metadata": {
        "id": "ERFHsPKHeMCW"
      },
      "execution_count": null,
      "outputs": []
    },
    {
      "cell_type": "code",
      "source": [
        "marks(tamil=60,english=70)"
      ],
      "metadata": {
        "colab": {
          "base_uri": "https://localhost:8080/"
        },
        "id": "UpMIY-gqetLM",
        "outputId": "968e54c1-1fc6-4df3-942e-eb936200d2c4"
      },
      "execution_count": null,
      "outputs": [
        {
          "output_type": "stream",
          "name": "stdout",
          "text": [
            "tamil 60\n",
            "english 70\n"
          ]
        }
      ]
    }
  ]
}